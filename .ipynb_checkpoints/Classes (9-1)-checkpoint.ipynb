{
 "cells": [
  {
   "cell_type": "code",
   "execution_count": 14,
   "metadata": {
    "collapsed": true
   },
   "outputs": [],
   "source": [
    "class Restaurant():\n",
    "    def __init__(self, restaurant_name, cuisine_type):\n",
    "        self.restaurant_name=restaurant_name\n",
    "        self.cuisine_type=cuisine_type\n",
    "        \n",
    "    def describe_restaurant(self):\n",
    "        print(\"Name of Restaurant is: \"+ self.restaurant_name +\"\\nCuisine Type is: \"+ self.cuisine_type)\n",
    "        \n",
    "    def open_restaurant(self):\n",
    "        print(\"Restaurant is open\")\n"
   ]
  },
  {
   "cell_type": "code",
   "execution_count": 15,
   "metadata": {
    "collapsed": true
   },
   "outputs": [],
   "source": [
    "r1= Restaurant (\"Cafe\",\"Asian\")"
   ]
  },
  {
   "cell_type": "code",
   "execution_count": 16,
   "metadata": {
    "collapsed": false
   },
   "outputs": [
    {
     "name": "stdout",
     "output_type": "stream",
     "text": [
      "Name of Restaurant is: Cafe\n",
      "Cuisine Type is: Asian\n"
     ]
    }
   ],
   "source": [
    "r1.describe_restaurant()"
   ]
  },
  {
   "cell_type": "code",
   "execution_count": 17,
   "metadata": {
    "collapsed": true
   },
   "outputs": [],
   "source": [
    "r2=Restaurant(\"burger O'clock\", \"Asian\")\n",
    "r3=Restaurant(\"China Town\", \"Chineese\")\n",
    "r4=Restaurant(\"House of mandi\", \"Arabic\")"
   ]
  },
  {
   "cell_type": "code",
   "execution_count": 18,
   "metadata": {
    "collapsed": false
   },
   "outputs": [
    {
     "name": "stdout",
     "output_type": "stream",
     "text": [
      "Name of Restaurant is: burger O'clock\n",
      "Cuisine Type is: Asian\n"
     ]
    }
   ],
   "source": [
    "r2.describe_restaurant()"
   ]
  },
  {
   "cell_type": "code",
   "execution_count": 19,
   "metadata": {
    "collapsed": false
   },
   "outputs": [
    {
     "name": "stdout",
     "output_type": "stream",
     "text": [
      "Name of Restaurant is: China Town\n",
      "Cuisine Type is: Chineese\n"
     ]
    }
   ],
   "source": [
    "r3.describe_restaurant()"
   ]
  },
  {
   "cell_type": "code",
   "execution_count": 21,
   "metadata": {
    "collapsed": false
   },
   "outputs": [
    {
     "name": "stdout",
     "output_type": "stream",
     "text": [
      "Name of Restaurant is: House of mandi\n",
      "Cuisine Type is: Arabic\n"
     ]
    }
   ],
   "source": [
    "r4.describe_restaurant()"
   ]
  },
  {
   "cell_type": "code",
   "execution_count": 27,
   "metadata": {
    "collapsed": true
   },
   "outputs": [],
   "source": [
    "class User():\n",
    "    def __init__(self,first_name, last_name, email):\n",
    "        self.first_name=first_name\n",
    "        self.last_name=last_name\n",
    "        self.email=email\n",
    "    def describe_user(self):\n",
    "        print(\"First Name: \"+self.first_name+\"\\n Last Name:\"+self.last_name+\"\\n Email: \"+self.email)\n",
    "    \n",
    "    def greet_user(self):\n",
    "        print(\"Hi \"+self.first_name+\", Its a great pleasure to meet You \")"
   ]
  },
  {
   "cell_type": "code",
   "execution_count": 28,
   "metadata": {
    "collapsed": true
   },
   "outputs": [],
   "source": [
    "u1= User(\"Sufyan\",\"Ahmed\", \"sufyan@gmail.com\")\n",
    "u2= User(\"Ali\",\"Ahmed\", \"ali@gmail.com\")\n",
    "u3= User(\"Shayan\",\"Ahmed\", \"shayan@gmail.com\")"
   ]
  },
  {
   "cell_type": "code",
   "execution_count": 29,
   "metadata": {
    "collapsed": false
   },
   "outputs": [
    {
     "name": "stdout",
     "output_type": "stream",
     "text": [
      "Hi Sufyan, Its a great pleasure to meet You \n"
     ]
    }
   ],
   "source": [
    "u1.greet_user()"
   ]
  },
  {
   "cell_type": "code",
   "execution_count": 30,
   "metadata": {
    "collapsed": false
   },
   "outputs": [
    {
     "name": "stdout",
     "output_type": "stream",
     "text": [
      "Hi Ali, Its a great pleasure to meet You \n"
     ]
    }
   ],
   "source": [
    "u2.greet_user()"
   ]
  },
  {
   "cell_type": "code",
   "execution_count": 31,
   "metadata": {
    "collapsed": false
   },
   "outputs": [
    {
     "name": "stdout",
     "output_type": "stream",
     "text": [
      "Hi Shayan, Its a great pleasure to meet You \n"
     ]
    }
   ],
   "source": [
    "u3.greet_user()"
   ]
  },
  {
   "cell_type": "code",
   "execution_count": null,
   "metadata": {
    "collapsed": true
   },
   "outputs": [],
   "source": []
  }
 ],
 "metadata": {
  "kernelspec": {
   "display_name": "Python 3",
   "language": "python",
   "name": "python3"
  },
  "language_info": {
   "codemirror_mode": {
    "name": "ipython",
    "version": 3
   },
   "file_extension": ".py",
   "mimetype": "text/x-python",
   "name": "python",
   "nbconvert_exporter": "python",
   "pygments_lexer": "ipython3",
   "version": "3.6.0"
  }
 },
 "nbformat": 4,
 "nbformat_minor": 2
}
