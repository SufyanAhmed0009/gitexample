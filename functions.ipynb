{
 "cells": [
  {
   "cell_type": "code",
   "execution_count": 3,
   "metadata": {
    "collapsed": false
   },
   "outputs": [
    {
     "name": "stdout",
     "output_type": "stream",
     "text": [
      "Whats ur name?sufyan\n",
      "Hello,sufyan\n"
     ]
    }
   ],
   "source": [
    "def greetuser():\n",
    "    name=input(\"Whats ur name?\")\n",
    "    print(f'Hello,{name}')\n",
    "    \n",
    "    \n",
    "greetuser();\n"
   ]
  },
  {
   "cell_type": "code",
   "execution_count": 2,
   "metadata": {
    "collapsed": false
   },
   "outputs": [
    {
     "name": "stdout",
     "output_type": "stream",
     "text": [
      "Whats ur name?Sufyabn\n",
      "Hello,Sufyabn\n"
     ]
    }
   ],
   "source": [
    "greetuser();"
   ]
  },
  {
   "cell_type": "code",
   "execution_count": 5,
   "metadata": {
    "collapsed": true
   },
   "outputs": [],
   "source": [
    "def add(a,b):\n",
    "    c=a+b\n",
    "    print(c)"
   ]
  },
  {
   "cell_type": "code",
   "execution_count": 6,
   "metadata": {
    "collapsed": false
   },
   "outputs": [
    {
     "name": "stdout",
     "output_type": "stream",
     "text": [
      "5\n"
     ]
    }
   ],
   "source": [
    "add(2,3)"
   ]
  },
  {
   "cell_type": "code",
   "execution_count": 49,
   "metadata": {
    "collapsed": false
   },
   "outputs": [
    {
     "data": {
      "text/plain": [
       "'sufyan ahmed hussain'"
      ]
     },
     "execution_count": 49,
     "metadata": {},
     "output_type": "execute_result"
    }
   ],
   "source": [
    "def fullname(first,mid,last):\n",
    "    name=first+\" \"+mid+\" \"+last\n",
    "    return name\n",
    "    \n",
    "fullname('sufyan', 'ahmed', 'hussain')"
   ]
  },
  {
   "cell_type": "code",
   "execution_count": 51,
   "metadata": {
    "collapsed": false
   },
   "outputs": [
    {
     "name": "stdout",
     "output_type": "stream",
     "text": [
      "Enter ur first name?abdul\n",
      "Enter ur mid name?rehman\n",
      "Enter ur last name?jadi\n",
      "Abdul Rehman Jadi\n"
     ]
    }
   ],
   "source": [
    "first1=input(\"Enter ur first name?\")\n",
    "mid1=input(\"Enter ur mid name?\")\n",
    "last1=input(\"Enter ur last name?\")\n",
    "\n",
    "name=fullname(first1,mid1,last1)\n",
    "print(name.title())"
   ]
  },
  {
   "cell_type": "code",
   "execution_count": 56,
   "metadata": {
    "collapsed": false
   },
   "outputs": [],
   "source": [
    "def calculator(num1,num2,operator=\"0\"):\n",
    "    ans=0\n",
    "    if(operator==\"+\"):\n",
    "        ans=num1+num2\n",
    "      #  print(ans)\n",
    "    elif(operator==\"-\"):\n",
    "        ans=num1-num2\n",
    "      #  print(ans)\n",
    "    elif(operator==\"*\"):\n",
    "        ans=num1*num2\n",
    "       # print(ans)\n",
    "    elif(operator==\"/\"):\n",
    "        ans=num1/num2\n",
    "      #  print(ans)\n",
    "    else:\n",
    "        print(\"operator is not define\")\n",
    "        \n",
    "    return ans"
   ]
  },
  {
   "cell_type": "code",
   "execution_count": 58,
   "metadata": {
    "collapsed": false
   },
   "outputs": [
    {
     "name": "stdout",
     "output_type": "stream",
     "text": [
      "Enter the first digit: 4\n",
      "Enter the second digit: 4\n",
      "Enter the operator: +\n",
      "8\n"
     ]
    }
   ],
   "source": [
    "num1=int(input(\"Enter the first digit: \"))\n",
    "num2=int(input(\"Enter the second digit: \"))\n",
    "opt=input(\"Enter the operator: \")\n",
    "\n",
    "ans= calculator(num1,num2,opt)\n",
    "print(ans)"
   ]
  },
  {
   "cell_type": "markdown",
   "metadata": {},
   "source": [
    "# keyword argument"
   ]
  },
  {
   "cell_type": "code",
   "execution_count": 60,
   "metadata": {
    "collapsed": false
   },
   "outputs": [
    {
     "data": {
      "text/plain": [
       "'sufyan  hussain'"
      ]
     },
     "execution_count": 60,
     "metadata": {},
     "output_type": "execute_result"
    }
   ],
   "source": [
    "def fullname(first,last,mid=''):\n",
    "    name=first+\" \"+mid+\" \"+last\n",
    "    return name\n",
    "    \n",
    "fullname(first='sufyan', last ='hussain')"
   ]
  },
  {
   "cell_type": "code",
   "execution_count": 61,
   "metadata": {
    "collapsed": true
   },
   "outputs": [],
   "source": [
    "# defualt parameter is always use in the end"
   ]
  },
  {
   "cell_type": "code",
   "execution_count": 62,
   "metadata": {
    "collapsed": true
   },
   "outputs": [],
   "source": [
    "def func(name):\n",
    "    print(name)"
   ]
  },
  {
   "cell_type": "code",
   "execution_count": 65,
   "metadata": {
    "collapsed": false
   },
   "outputs": [
    {
     "name": "stdout",
     "output_type": "stream",
     "text": [
      "Ali\n",
      "Salman\n",
      "Sufyan\n"
     ]
    }
   ],
   "source": [
    "list=[\"Ali\", \"Salman\", \"Sufyan\"]\n",
    "for x in list:\n",
    "    func(x)\n",
    "    "
   ]
  },
  {
   "cell_type": "markdown",
   "metadata": {},
   "source": [
    "# *parameter (handles the extra argumnents and it returns values in tuple form) "
   ]
  },
  {
   "cell_type": "code",
   "execution_count": 66,
   "metadata": {
    "collapsed": true
   },
   "outputs": [],
   "source": [
    "def fullname(first,last,mid='',*others):\n",
    "    name=first+\" \"+mid+\" \"+last\n",
    "    return name"
   ]
  },
  {
   "cell_type": "code",
   "execution_count": 69,
   "metadata": {
    "collapsed": false
   },
   "outputs": [
    {
     "data": {
      "text/plain": [
       "'ds xz er'"
      ]
     },
     "execution_count": 69,
     "metadata": {},
     "output_type": "execute_result"
    }
   ],
   "source": [
    "fullname (\"ds\",\"er\",\"xz\",\"cv\")"
   ]
  },
  {
   "cell_type": "code",
   "execution_count": null,
   "metadata": {
    "collapsed": true
   },
   "outputs": [],
   "source": []
  }
 ],
 "metadata": {
  "kernelspec": {
   "display_name": "Python 3",
   "language": "python",
   "name": "python3"
  },
  "language_info": {
   "codemirror_mode": {
    "name": "ipython",
    "version": 3
   },
   "file_extension": ".py",
   "mimetype": "text/x-python",
   "name": "python",
   "nbconvert_exporter": "python",
   "pygments_lexer": "ipython3",
   "version": "3.6.0"
  }
 },
 "nbformat": 4,
 "nbformat_minor": 2
}
