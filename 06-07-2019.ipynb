{
 "cells": [
  {
   "cell_type": "code",
   "execution_count": 65,
   "metadata": {
    "collapsed": true
   },
   "outputs": [],
   "source": [
    "class Car():\n",
    "    def __init__(self, make, model, year):\n",
    "        self.make = make\n",
    "        self.model = model\n",
    "        self.year = year\n",
    "        self.odometer_reading = 0\n",
    "        \n",
    "    def get_descriptive_name(self):\n",
    "        \n",
    "        long_name = str(self.year) + ' ' + self.make + ' '+ self.model\n",
    "        return long_name.title()\n",
    "    def getFuelTank(self):\n",
    "        print(\"100 litres\")\n",
    "    \n",
    "    def read_odometer(self):\n",
    "        print(f\"the car has travelled {self.odometer_reading} miles\")\n",
    "    \n",
    "    def update_odometer(self, mileage):\n",
    "        self.odometer_reading = mileage\n",
    "        \n",
    "    def increase_odometer(self, mileage):\n",
    "        if mileage >0:\n",
    "            self.odometer_reading +=mileage\n",
    "        else:\n",
    "            print(\"you can not rol back odometer\")"
   ]
  },
  {
   "cell_type": "code",
   "execution_count": 53,
   "metadata": {
    "collapsed": false
   },
   "outputs": [],
   "source": [
    "c1= Car(\"audi\",\"asda\",2019)"
   ]
  },
  {
   "cell_type": "code",
   "execution_count": 8,
   "metadata": {
    "collapsed": false
   },
   "outputs": [
    {
     "data": {
      "text/plain": [
       "'2019 Audi Asda'"
      ]
     },
     "execution_count": 8,
     "metadata": {},
     "output_type": "execute_result"
    }
   ],
   "source": [
    "c1.get_descriptive_name()"
   ]
  },
  {
   "cell_type": "code",
   "execution_count": 9,
   "metadata": {
    "collapsed": false
   },
   "outputs": [
    {
     "ename": "TypeError",
     "evalue": "increase_odometer() missing 1 required positional argument: 'mileage'",
     "output_type": "error",
     "traceback": [
      "\u001b[0;31m---------------------------------------------------------------------------\u001b[0m",
      "\u001b[0;31mTypeError\u001b[0m                                 Traceback (most recent call last)",
      "\u001b[0;32m<ipython-input-9-4acb36f68d57>\u001b[0m in \u001b[0;36m<module>\u001b[0;34m()\u001b[0m\n\u001b[0;32m----> 1\u001b[0;31m \u001b[0mc1\u001b[0m\u001b[1;33m.\u001b[0m\u001b[0mincrease_odometer\u001b[0m\u001b[1;33m(\u001b[0m\u001b[1;33m)\u001b[0m\u001b[1;33m\u001b[0m\u001b[0m\n\u001b[0m",
      "\u001b[0;31mTypeError\u001b[0m: increase_odometer() missing 1 required positional argument: 'mileage'"
     ]
    }
   ],
   "source": [
    "c1.increase_odometer()"
   ]
  },
  {
   "cell_type": "code",
   "execution_count": 66,
   "metadata": {
    "collapsed": false
   },
   "outputs": [],
   "source": [
    "class ElectricCar(Car):\n",
    "    def __init__(self,make,model,year):\n",
    "        super().__init__(make,model,year)\n",
    "        self.batterySize=70\n",
    "        \n",
    "    def getFuelTank(self):\n",
    "        print(\"Electric car doent need a fuel tank\")\n",
    "        \n",
    "    def setBattery(self, battery):\n",
    "        self.batterySize = battery\n",
    "        \n",
    "    \n",
    "        \n",
    "    def getBattery(self):\n",
    "        print(f\"Battery Size is {self.batterySize}\")\n",
    "       #print(f\"Battery Size: {self.batterySize}\")\n",
    "\n",
    "        "
   ]
  },
  {
   "cell_type": "code",
   "execution_count": 63,
   "metadata": {
    "collapsed": false
   },
   "outputs": [],
   "source": [
    "eCar=ElectricCar(\"Toyota\", \"corolla\",2019)"
   ]
  },
  {
   "cell_type": "code",
   "execution_count": 41,
   "metadata": {
    "collapsed": false
   },
   "outputs": [
    {
     "name": "stdout",
     "output_type": "stream",
     "text": [
      "the car has travelled 0 miles\n"
     ]
    }
   ],
   "source": [
    "eCar.read_odometer()"
   ]
  },
  {
   "cell_type": "code",
   "execution_count": 42,
   "metadata": {
    "collapsed": true
   },
   "outputs": [],
   "source": [
    "eCar.update_odometer(10)"
   ]
  },
  {
   "cell_type": "code",
   "execution_count": 67,
   "metadata": {
    "collapsed": false
   },
   "outputs": [],
   "source": [
    "e1=ElectricCar(\"ABC Electric Car\",\"new car\", 2019)"
   ]
  },
  {
   "cell_type": "code",
   "execution_count": 60,
   "metadata": {
    "collapsed": false
   },
   "outputs": [
    {
     "data": {
      "text/plain": [
       "70"
      ]
     },
     "execution_count": 60,
     "metadata": {},
     "output_type": "execute_result"
    }
   ],
   "source": [
    "e1.batterySize"
   ]
  },
  {
   "cell_type": "code",
   "execution_count": 45,
   "metadata": {
    "collapsed": false
   },
   "outputs": [
    {
     "name": "stdout",
     "output_type": "stream",
     "text": [
      "Battery Size is 70\n"
     ]
    }
   ],
   "source": [
    "e1.getBattery()"
   ]
  },
  {
   "cell_type": "code",
   "execution_count": 50,
   "metadata": {
    "collapsed": false
   },
   "outputs": [],
   "source": [
    "e1.setBattery(300)"
   ]
  },
  {
   "cell_type": "code",
   "execution_count": 51,
   "metadata": {
    "collapsed": false
   },
   "outputs": [
    {
     "name": "stdout",
     "output_type": "stream",
     "text": [
      "Battery Size is 300\n"
     ]
    }
   ],
   "source": [
    "e1.getBattery()"
   ]
  },
  {
   "cell_type": "code",
   "execution_count": 68,
   "metadata": {
    "collapsed": false
   },
   "outputs": [
    {
     "name": "stdout",
     "output_type": "stream",
     "text": [
      "Electric car doent need a fuel tank\n"
     ]
    }
   ],
   "source": [
    "e1.getFuelTank()"
   ]
  },
  {
   "cell_type": "code",
   "execution_count": 71,
   "metadata": {
    "collapsed": false
   },
   "outputs": [
    {
     "ename": "IndentationError",
     "evalue": "unindent does not match any outer indentation level (<ipython-input-71-a0b5db31e4ea>, line 7)",
     "output_type": "error",
     "traceback": [
      "\u001b[0;36m  File \u001b[0;32m\"<ipython-input-71-a0b5db31e4ea>\"\u001b[0;36m, line \u001b[0;32m7\u001b[0m\n\u001b[0;31m    def setBattery(self, battery):\u001b[0m\n\u001b[0m                                  ^\u001b[0m\n\u001b[0;31mIndentationError\u001b[0m\u001b[0;31m:\u001b[0m unindent does not match any outer indentation level\n"
     ]
    }
   ],
   "source": []
  },
  {
   "cell_type": "markdown",
   "metadata": {},
   "source": [
    "# Instance as Attribute"
   ]
  },
  {
   "cell_type": "code",
   "execution_count": 75,
   "metadata": {
    "collapsed": true
   },
   "outputs": [],
   "source": [
    "class ElectricCar(Car):\n",
    "    def __init__(self,make,model,year):\n",
    "        super().__init__(make,model,year)\n",
    "        self.batterySize=Battery(\"Osaka\", 200, 2019)\n",
    "        \n",
    "    def getFuelTank(self):\n",
    "        print(\"Electric car doent need a fuel tank\")\n",
    "        \n",
    "   \n",
    "\n",
    "        "
   ]
  },
  {
   "cell_type": "code",
   "execution_count": 76,
   "metadata": {
    "collapsed": false
   },
   "outputs": [],
   "source": [
    "class Battery():\n",
    "    def __init__(self, manufacturer, watt, date):\n",
    "        self.manufacturer=manufacturer\n",
    "        self.watt=watt\n",
    "        self.date=date\n",
    "    \n",
    "    def setBattery(self, battery):\n",
    "        self.batterySize = battery\n",
    "    \n",
    "    \n",
    "    \n",
    "    def getBattery(self):\n",
    "        print(f\"Battery Size is {self.batterySize}\")\n",
    "    \n",
    "    def "
   ]
  },
  {
   "cell_type": "code",
   "execution_count": null,
   "metadata": {
    "collapsed": true
   },
   "outputs": [],
   "source": []
  },
  {
   "cell_type": "code",
   "execution_count": 77,
   "metadata": {
    "collapsed": true
   },
   "outputs": [],
   "source": [
    "e1=ElectricCar(\"asdas\", \"dsdsa\",2019)"
   ]
  },
  {
   "cell_type": "code",
   "execution_count": 79,
   "metadata": {
    "collapsed": false
   },
   "outputs": [
    {
     "data": {
      "text/plain": [
       "2019"
      ]
     },
     "execution_count": 79,
     "metadata": {},
     "output_type": "execute_result"
    }
   ],
   "source": [
    "e1.batterySize.date"
   ]
  },
  {
   "cell_type": "code",
   "execution_count": null,
   "metadata": {
    "collapsed": true
   },
   "outputs": [],
   "source": []
  }
 ],
 "metadata": {
  "kernelspec": {
   "display_name": "Python 3",
   "language": "python",
   "name": "python3"
  }
 },
 "nbformat": 4,
 "nbformat_minor": 2
}
