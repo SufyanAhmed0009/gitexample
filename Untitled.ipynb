{
 "cells": [
  {
   "cell_type": "code",
   "execution_count": null,
   "metadata": {
    "collapsed": true
   },
   "outputs": [],
   "source": [
    "#make a folder  and open it in cmd and open any one folder\n",
    "#git init\n",
    "#git status \n",
    "#git add filename.exetension\n",
    "#git status\n",
    "#git add. (for all files in that folder)\n",
    "#staging area\\\n",
    "\n",
    "\n",
    "#git commit -m \"assigned 2nd variable\"(packing)\n",
    "#git log (for )"
   ]
  }
 ],
 "metadata": {
  "kernelspec": {
   "display_name": "Python 3",
   "language": "python",
   "name": "python3"
  },
  "language_info": {
   "codemirror_mode": {
    "name": "ipython",
    "version": 3
   },
   "file_extension": ".py",
   "mimetype": "text/x-python",
   "name": "python",
   "nbconvert_exporter": "python",
   "pygments_lexer": "ipython3",
   "version": "3.6.0"
  }
 },
 "nbformat": 4,
 "nbformat_minor": 2
}
