{
 "cells": [
  {
   "cell_type": "code",
   "execution_count": 1,
   "metadata": {
    "collapsed": false
   },
   "outputs": [
    {
     "name": "stdout",
     "output_type": "stream",
     "text": [
      "++\n"
     ]
    }
   ],
   "source": [
    "print ('++')"
   ]
  },
  {
   "cell_type": "code",
   "execution_count": null,
   "metadata": {
    "collapsed": true
   },
   "outputs": [],
   "source": []
  },
  {
   "cell_type": "code",
   "execution_count": null,
   "metadata": {
    "collapsed": true
   },
   "outputs": [],
   "source": []
  },
  {
   "cell_type": "markdown",
   "metadata": {},
   "source": [
    "# Our First Class"
   ]
  },
  {
   "cell_type": "code",
   "execution_count": 1,
   "metadata": {
    "collapsed": false
   },
   "outputs": [
    {
     "name": "stdout",
     "output_type": "stream",
     "text": [
      "Hello\n"
     ]
    }
   ],
   "source": [
    "print ('Hello')"
   ]
  },
  {
   "cell_type": "code",
   "execution_count": null,
   "metadata": {
    "collapsed": true
   },
   "outputs": [],
   "source": []
  },
  {
   "cell_type": "markdown",
   "metadata": {},
   "source": [
    "print (\"sdfs\")"
   ]
  },
  {
   "cell_type": "markdown",
   "metadata": {},
   "source": [
    "Ramadan\n"
   ]
  },
  {
   "cell_type": "code",
   "execution_count": 2,
   "metadata": {
    "collapsed": false
   },
   "outputs": [
    {
     "ename": "NameError",
     "evalue": "name 'p' is not defined",
     "output_type": "error",
     "traceback": [
      "\u001b[0;31m---------------------------------------------------------------------------\u001b[0m",
      "\u001b[0;31mNameError\u001b[0m                                 Traceback (most recent call last)",
      "\u001b[0;32m<ipython-input-2-9d7bf0753729>\u001b[0m in \u001b[0;36m<module>\u001b[0;34m()\u001b[0m\n\u001b[0;32m----> 1\u001b[0;31m \u001b[0mp\u001b[0m\u001b[1;33m\u001b[0m\u001b[0m\n\u001b[0m",
      "\u001b[0;31mNameError\u001b[0m: name 'p' is not defined"
     ]
    }
   ],
   "source": [
    "p"
   ]
  },
  {
   "cell_type": "code",
   "execution_count": 14,
   "metadata": {
    "collapsed": false
   },
   "outputs": [
    {
     "name": "stdout",
     "output_type": "stream",
     "text": [
      "Hello\tSufyan\n",
      "Jadif"
     ]
    }
   ],
   "source": [
    "print (\"Hello\", end = \"\\t\")\n",
    "print (\"Sufyan\", end =\"\\n\")\n",
    "print (\"Jadi\", end =\"f\")"
   ]
  },
  {
   "cell_type": "code",
   "execution_count": 8,
   "metadata": {
    "collapsed": false
   },
   "outputs": [
    {
     "name": "stdout",
     "output_type": "stream",
     "text": [
      "12.3 324   \n",
      " asdda\n"
     ]
    }
   ],
   "source": [
    "print(12.3, 324, \" \", \"\\n\", \"asdda\")"
   ]
  },
  {
   "cell_type": "raw",
   "metadata": {},
   "source": [
    "print (\"false\")\n"
   ]
  },
  {
   "cell_type": "code",
   "execution_count": 16,
   "metadata": {
    "collapsed": false
   },
   "outputs": [
    {
     "name": "stdout",
     "output_type": "stream",
     "text": [
      "False\n"
     ]
    }
   ],
   "source": [
    "print (False) #bool\n"
   ]
  },
  {
   "cell_type": "code",
   "execution_count": 17,
   "metadata": {
    "collapsed": false
   },
   "outputs": [
    {
     "name": "stdout",
     "output_type": "stream",
     "text": [
      "12.3,324, ,\n",
      ",asdda\n"
     ]
    }
   ],
   "source": [
    "print(12.3, 324, \" \", \"\\n\", \"asdda\", sep=\",\")"
   ]
  },
  {
   "cell_type": "code",
   "execution_count": 18,
   "metadata": {
    "collapsed": false
   },
   "outputs": [
    {
     "name": "stdout",
     "output_type": "stream",
     "text": [
      "asdasfsf\n"
     ]
    }
   ],
   "source": [
    "print (\"asdasfsf\")"
   ]
  },
  {
   "cell_type": "code",
   "execution_count": 20,
   "metadata": {
    "collapsed": true
   },
   "outputs": [],
   "source": [
    "name= \"Sufyan\""
   ]
  },
  {
   "cell_type": "code",
   "execution_count": 21,
   "metadata": {
    "collapsed": false
   },
   "outputs": [
    {
     "name": "stdout",
     "output_type": "stream",
     "text": [
      "Sufyan\n"
     ]
    }
   ],
   "source": [
    "print(name)"
   ]
  },
  {
   "cell_type": "code",
   "execution_count": 22,
   "metadata": {
    "collapsed": false
   },
   "outputs": [
    {
     "data": {
      "text/plain": [
       "956645510256"
      ]
     },
     "execution_count": 22,
     "metadata": {},
     "output_type": "execute_result"
    }
   ],
   "source": [
    "id(name)"
   ]
  },
  {
   "cell_type": "code",
   "execution_count": 23,
   "metadata": {
    "collapsed": false
   },
   "outputs": [
    {
     "name": "stdout",
     "output_type": "stream",
     "text": [
      "<built-in function id>\n"
     ]
    }
   ],
   "source": [
    "print(id)"
   ]
  },
  {
   "cell_type": "code",
   "execution_count": 3,
   "metadata": {
    "collapsed": true
   },
   "outputs": [],
   "source": [
    "_=\"fgdf\""
   ]
  },
  {
   "cell_type": "code",
   "execution_count": 4,
   "metadata": {
    "collapsed": false
   },
   "outputs": [
    {
     "ename": "SyntaxError",
     "evalue": "can't assign to operator (<ipython-input-4-69e97d1fa4f1>, line 1)",
     "output_type": "error",
     "traceback": [
      "\u001b[0;36m  File \u001b[0;32m\"<ipython-input-4-69e97d1fa4f1>\"\u001b[0;36m, line \u001b[0;32m1\u001b[0m\n\u001b[0;31m    f-name= \"ali\"\u001b[0m\n\u001b[0m                 ^\u001b[0m\n\u001b[0;31mSyntaxError\u001b[0m\u001b[0;31m:\u001b[0m can't assign to operator\n"
     ]
    }
   ],
   "source": [
    "f-name= \"ali\""
   ]
  },
  {
   "cell_type": "code",
   "execution_count": 27,
   "metadata": {
    "collapsed": true
   },
   "outputs": [],
   "source": [
    "x=\"123\""
   ]
  },
  {
   "cell_type": "markdown",
   "metadata": {},
   "source": [
    "# Concatenation\n"
   ]
  },
  {
   "cell_type": "code",
   "execution_count": 29,
   "metadata": {
    "collapsed": true
   },
   "outputs": [],
   "source": [
    "x= \"123\"\n",
    "y=\"456\"\n",
    "z=x+y"
   ]
  },
  {
   "cell_type": "code",
   "execution_count": 30,
   "metadata": {
    "collapsed": false
   },
   "outputs": [
    {
     "name": "stdout",
     "output_type": "stream",
     "text": [
      "123456\n"
     ]
    }
   ],
   "source": [
    "print(z)"
   ]
  },
  {
   "cell_type": "code",
   "execution_count": 10,
   "metadata": {
    "collapsed": false
   },
   "outputs": [],
   "source": [
    "x=2\n",
    "y=\"2\"\n"
   ]
  },
  {
   "cell_type": "code",
   "execution_count": 11,
   "metadata": {
    "collapsed": false
   },
   "outputs": [
    {
     "name": "stdout",
     "output_type": "stream",
     "text": [
      "4\n"
     ]
    }
   ],
   "source": [
    "\n",
    "z=int(x)+int(y)\n",
    "print(z)"
   ]
  },
  {
   "cell_type": "code",
   "execution_count": 12,
   "metadata": {
    "collapsed": false
   },
   "outputs": [],
   "source": [
    "z= str(x)+y"
   ]
  },
  {
   "cell_type": "code",
   "execution_count": 38,
   "metadata": {
    "collapsed": false
   },
   "outputs": [
    {
     "name": "stdout",
     "output_type": "stream",
     "text": [
      "22\n"
     ]
    }
   ],
   "source": [
    "print(z)"
   ]
  },
  {
   "cell_type": "markdown",
   "metadata": {},
   "source": [
    "# Python Language is case sensitive"
   ]
  },
  {
   "cell_type": "code",
   "execution_count": 15,
   "metadata": {
    "collapsed": false
   },
   "outputs": [
    {
     "data": {
      "text/plain": [
       "'22'"
      ]
     },
     "execution_count": 15,
     "metadata": {},
     "output_type": "execute_result"
    }
   ],
   "source": [
    "z"
   ]
  },
  {
   "cell_type": "code",
   "execution_count": 40,
   "metadata": {
    "collapsed": false
   },
   "outputs": [
    {
     "name": "stdout",
     "output_type": "stream",
     "text": [
      "Wht is ur age?22\n"
     ]
    }
   ],
   "source": [
    "age = input (\"Wht is ur age?\")"
   ]
  },
  {
   "cell_type": "markdown",
   "metadata": {},
   "source": [
    "# String Formating"
   ]
  },
  {
   "cell_type": "code",
   "execution_count": 42,
   "metadata": {
    "collapsed": false
   },
   "outputs": [
    {
     "name": "stdout",
     "output_type": "stream",
     "text": [
      "Wht is ur name?sufyan\n",
      "Wht is ur age?23\n",
      "My name is sufyan and my age is 23\n"
     ]
    }
   ],
   "source": [
    "name = input (\"Wht is ur name?\")\n",
    "age = input (\"Wht is ur age?\")\n",
    "print(\"My name is {} and my age is {}\".format(name,age))"
   ]
  },
  {
   "cell_type": "code",
   "execution_count": 16,
   "metadata": {
    "collapsed": false
   },
   "outputs": [
    {
     "ename": "SyntaxError",
     "evalue": "f-string: empty expression not allowed (<ipython-input-16-2198d10918c6>, line 3)",
     "output_type": "error",
     "traceback": [
      "\u001b[0;36m  File \u001b[0;32m\"<ipython-input-16-2198d10918c6>\"\u001b[0;36m, line \u001b[0;32m3\u001b[0m\n\u001b[0;31m    print(f\"My name is {} and my age is {}\")\u001b[0m\n\u001b[0m         ^\u001b[0m\n\u001b[0;31mSyntaxError\u001b[0m\u001b[0;31m:\u001b[0m f-string: empty expression not allowed\n"
     ]
    }
   ],
   "source": [
    "name = input (\"Wht is ur name?\")\n",
    "age = input (\"Wht is ur age?\")\n",
    "print(f\"My name is {} and my age is {}\")"
   ]
  },
  {
   "cell_type": "code",
   "execution_count": 17,
   "metadata": {
    "collapsed": false
   },
   "outputs": [
    {
     "name": "stdout",
     "output_type": "stream",
     "text": [
      "Wht is ur name?ds\n",
      "Wht is ur age?sd\n",
      "My name is ds and my age is sd\n"
     ]
    }
   ],
   "source": [
    "name = input (\"Wht is ur name?\")\n",
    "age = input (\"Wht is ur age?\")\n",
    "print(f\"My name is {name} and my age is {age}\")"
   ]
  },
  {
   "cell_type": "code",
   "execution_count": null,
   "metadata": {
    "collapsed": true
   },
   "outputs": [],
   "source": [
    "print (\"dcdsc\");"
   ]
  },
  {
   "cell_type": "code",
   "execution_count": 3,
   "metadata": {
    "collapsed": true
   },
   "outputs": [],
   "source": [
    "a=6\n",
    "b=3"
   ]
  },
  {
   "cell_type": "code",
   "execution_count": 11,
   "metadata": {
    "collapsed": false
   },
   "outputs": [
    {
     "name": "stdout",
     "output_type": "stream",
     "text": [
      "Enter the 1st number2\n",
      "Enter the 2nd number3\n",
      "Else Block\n",
      "3 is greater than 2\n"
     ]
    }
   ],
   "source": [
    "a=int(input(\"Enter the 1st number\"))\n",
    "b=int(input(\"Enter the 2nd number\"))\n",
    "if a>b:\n",
    "    #indendation\n",
    "    print(\"IF Block\")\n",
    "    print (f\"{a} is greater than {b}\")\n",
    "else:\n",
    "    print(\"Else Block\")\n",
    "    print (f\"{b} is greater than {a}\")"
   ]
  },
  {
   "cell_type": "markdown",
   "metadata": {
    "collapsed": true
   },
   "source": [
    "# Nested IF's"
   ]
  },
  {
   "cell_type": "code",
   "execution_count": 20,
   "metadata": {
    "collapsed": false
   },
   "outputs": [
    {
     "name": "stdout",
     "output_type": "stream",
     "text": [
      "You have nics\n",
      "You are not eligble\n"
     ]
    }
   ],
   "source": [
    "nic=input(\"You have nic\").lower()\n",
    "if nic=='yes':\n",
    "    print(\"You are eligible\")\n",
    "    voterlist=input(\"your name is in the list\").lower()\n",
    "    if voterlist=='yes':\n",
    "        #print(\"Your Ticket is Valid\")\n",
    "        print(\"You are allowed to vote\")\n",
    "    else:\n",
    "        print(\"Your name is not in the list\")\n",
    "else:\n",
    "    print (\"You are not eligble\")"
   ]
  },
  {
   "cell_type": "code",
   "execution_count": 24,
   "metadata": {
    "collapsed": false
   },
   "outputs": [
    {
     "name": "stdout",
     "output_type": "stream",
     "text": [
      "You have nicyes\n",
      "your name is in the listyes\n",
      "You are eligible\n",
      "You are allowed to vote\n"
     ]
    }
   ],
   "source": [
    "nic=input(\"You have nic\").lower()\n",
    "voterlist=input(\"your name is in the list\").lower()\n",
    "if nic=='yes' and voterlist=='yes':\n",
    "    print(\"You are eligible\")\n",
    "        #print(\"Your Ticket is Valid\")\n",
    "    print(\"You are allowed to vote\")\n",
    "\n",
    "else:\n",
    "    print (\"You are not eligble\")"
   ]
  },
  {
   "cell_type": "code",
   "execution_count": 27,
   "metadata": {
    "collapsed": false
   },
   "outputs": [
    {
     "name": "stdout",
     "output_type": "stream",
     "text": [
      "Enter the 1st number2\n",
      "Enter the 2nd number2\n",
      "2 is equal to 2\n"
     ]
    }
   ],
   "source": [
    "a=int(input(\"Enter the 1st number\"))\n",
    "b=int(input(\"Enter the 2nd number\"))\n",
    "\n",
    "if a==b:\n",
    "    print(f\"{a} is equal to {b}\")\n",
    "elif a!=b:\n",
    "    print(f\"{a} is not equal to {b}\")\n",
    "elif a>b:\n",
    "    print(f\"{a} is greater than {b}\")\n",
    "else:\n",
    "    print(f\"{a} is less than {b}\")"
   ]
  },
  {
   "cell_type": "code",
   "execution_count": 33,
   "metadata": {
    "collapsed": false
   },
   "outputs": [
    {
     "name": "stdout",
     "output_type": "stream",
     "text": [
      "You have vehicle documentsyes\n",
      "YES\n",
      "You have moneyyes\n",
      "set hai\n"
     ]
    }
   ],
   "source": [
    "a=input(\"You have vehicle documents\").upper()\n",
    "print(a);\n",
    "b=input(\"You have money\").lower()\n",
    "\n",
    "if a=='yes' or b=='yes':\n",
    "    print(\"set hai\")\n",
    "    \n",
    "else:\n",
    "    print(\"side pe laga de bike\")\n",
    "    "
   ]
  },
  {
   "cell_type": "code",
   "execution_count": 34,
   "metadata": {
    "collapsed": true
   },
   "outputs": [],
   "source": [
    "# single line comment"
   ]
  },
  {
   "cell_type": "code",
   "execution_count": 36,
   "metadata": {
    "collapsed": false
   },
   "outputs": [
    {
     "data": {
      "text/plain": [
       "' Multi line comment'"
      ]
     },
     "execution_count": 36,
     "metadata": {},
     "output_type": "execute_result"
    }
   ],
   "source": [
    "''' Multi line comment'''"
   ]
  },
  {
   "cell_type": "code",
   "execution_count": 37,
   "metadata": {
    "collapsed": false
   },
   "outputs": [
    {
     "ename": "SyntaxError",
     "evalue": "invalid syntax (<ipython-input-37-247e3191895b>, line 1)",
     "output_type": "error",
     "traceback": [
      "\u001b[0;36m  File \u001b[0;32m\"<ipython-input-37-247e3191895b>\"\u001b[0;36m, line \u001b[0;32m1\u001b[0m\n\u001b[0;31m    ATM MACHINE\u001b[0m\n\u001b[0m              ^\u001b[0m\n\u001b[0;31mSyntaxError\u001b[0m\u001b[0;31m:\u001b[0m invalid syntax\n"
     ]
    }
   ],
   "source": [
    "ATM MACHINE\n",
    "deposit\n",
    "withdrawl\n",
    "check balance"
   ]
  },
  {
   "cell_type": "markdown",
   "metadata": {},
   "source": [
    "ATM MACHINE\n",
    "deposit\n",
    "withdrawl\n",
    "check balance\n"
   ]
  },
  {
   "cell_type": "code",
   "execution_count": 2,
   "metadata": {
    "collapsed": false
   },
   "outputs": [
    {
     "name": "stdout",
     "output_type": "stream",
     "text": [
      "ATM MACHINE\n"
     ]
    }
   ],
   "source": [
    "print (\"ATM MACHINE\")"
   ]
  },
  {
   "cell_type": "code",
   "execution_count": 4,
   "metadata": {
    "collapsed": false
   },
   "outputs": [
    {
     "name": "stdout",
     "output_type": "stream",
     "text": [
      "\n",
      "Press 1 For Checking the Balance\n",
      "\n",
      "Press 2 For Deposit\n",
      "\n",
      "Press 3 For Withdrawl\n",
      "\n",
      "Press 4 For Exit\n"
     ]
    }
   ],
   "source": [
    "print (\"\\nPress 1 For Checking the Balance\")\n",
    "print (\"\\nPress 2 For Deposit\")\n",
    "print (\"\\nPress 3 For Withdrawl\")\n",
    "print (\"\\nPress 4 For Exit\")"
   ]
  },
  {
   "cell_type": "code",
   "execution_count": 1,
   "metadata": {
    "collapsed": false
   },
   "outputs": [
    {
     "ename": "IndentationError",
     "evalue": "unexpected indent (<ipython-input-1-202b3fbd3cff>, line 4)",
     "output_type": "error",
     "traceback": [
      "\u001b[0;36m  File \u001b[0;32m\"<ipython-input-1-202b3fbd3cff>\"\u001b[0;36m, line \u001b[0;32m4\u001b[0m\n\u001b[0;31m    inpt= input(\"\\nPress 1 For Checking the Balance \\nPress 2 For Deposit \\nPress 3 For Withdrawl \\nPress 4 For Exit\\n\")\u001b[0m\n\u001b[0m    ^\u001b[0m\n\u001b[0;31mIndentationError\u001b[0m\u001b[0;31m:\u001b[0m unexpected indent\n"
     ]
    }
   ],
   "source": [
    "i=\"\"\n",
    "\n",
    "# while \n",
    "        inpt= input(\"\\nPress 1 For Checking the Balance \\nPress 2 For Deposit \\nPress 3 For Withdrawl \\nPress 4 For Exit\\n\")\n",
    "        account=0\n",
    "        if inpt==\"1\" :\n",
    "            print(account)\n",
    "        elif inpt==\"2\":\n",
    "            amt=input(\"Enter the amount which U have to deposit\")\n",
    "        elif inpt==\"3\":\n",
    "            amt=input(\"Enter the amount which U have to withdrawl\")\n",
    "        else:\n",
    "            print(\"Thank You\")\n",
    "        i = input(\"press y for continue\")\n",
    "    \n",
    "#     if i=\"n\":\n",
    "#         break\n",
    "        \n"
   ]
  },
  {
   "cell_type": "markdown",
   "metadata": {},
   "source": [
    "# ATM Machine Assignment\n",
    "account=0\n",
    "while press=='y':\n",
    "    inpt= input(\"\\nPress 1 For Checking the Balance \\nPress 2 For Deposit \\nPress 3 For Withdrawl\\n \")\n",
    "    \n",
    "    \n",
    "    if inpt==\"1\" :\n",
    "        print(\"Your Balance is \",account)\n",
    "    \n",
    "    elif inpt==\"2\":\n",
    "        deposit=int(input(\"Enter the amount which U have to deposit \"))\n",
    "        account= account+deposit\n",
    "        print(\"You have deposited \",deposit)\n",
    "        print(\"And Your Balance is \",account)\n",
    "        \n",
    "    elif inpt==\"3\":\n",
    "        withdrawl=int(input(\"Enter the amount which U have to withdrawl \"))\n",
    "        account= account-withdrawl\n",
    "        print(\"You have withdrawl\",withdrawl)\n",
    "        print(\"And Your Balance is \",account)\n",
    "    \n",
    "    else:\n",
    "        print(\"Thank You\")\n",
    "    \n",
    "    press= input(\"You would like to go for another trasaction?\\n if yes Press y other wise press any key \").lower()"
   ]
  },
  {
   "cell_type": "code",
   "execution_count": 5,
   "metadata": {
    "collapsed": false
   },
   "outputs": [
    {
     "name": "stdout",
     "output_type": "stream",
     "text": [
      "fgdf\n"
     ]
    }
   ],
   "source": [
    "print(_)"
   ]
  },
  {
   "cell_type": "code",
   "execution_count": null,
   "metadata": {
    "collapsed": true
   },
   "outputs": [],
   "source": []
  }
 ],
 "metadata": {
  "kernelspec": {
   "display_name": "Python 3",
   "language": "python",
   "name": "python3"
  },
  "language_info": {
   "codemirror_mode": {
    "name": "ipython",
    "version": 3
   },
   "file_extension": ".py",
   "mimetype": "text/x-python",
   "name": "python",
   "nbconvert_exporter": "python",
   "pygments_lexer": "ipython3",
   "version": "3.6.0"
  }
 },
 "nbformat": 4,
 "nbformat_minor": 2
}
