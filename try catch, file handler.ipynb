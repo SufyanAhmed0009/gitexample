{
 "cells": [
  {
   "cell_type": "code",
   "execution_count": 8,
   "metadata": {
    "collapsed": false
   },
   "outputs": [
    {
     "name": "stdout",
     "output_type": "stream",
     "text": [
      "Enter a number5\n",
      "Enter a numbert\n",
      "Exception is caught\n"
     ]
    }
   ],
   "source": [
    "\n",
    "try:\n",
    "    a= int (input(\"Enter a number\"))\n",
    "    b= int (input(\"Enter a number\"))\n",
    "    c=a/b\n",
    "except:\n",
    "    print (\"Exception is caught\")\n",
    "else: \n",
    "    print(c)\n"
   ]
  },
  {
   "cell_type": "code",
   "execution_count": 2,
   "metadata": {
    "collapsed": false
   },
   "outputs": [
    {
     "name": "stdout",
     "output_type": "stream",
     "text": [
      "Enter a number3\n",
      "Enter a numberr\n",
      "Handle Error==invalid literal for int() with base 10: 'r'\n",
      "Finally will always run\n"
     ]
    }
   ],
   "source": [
    "\n",
    "try:\n",
    "    a= int (input(\"Enter a number\"))\n",
    "    b= int (input(\"Enter a number\"))\n",
    "    c=a/b\n",
    "except Exception as e :\n",
    "    print (\"Handle Error==\"+str(e))\n",
    "else: \n",
    "    print(c)\n",
    "finally:\n",
    "    print(\"Finally will always run\")"
   ]
  },
  {
   "cell_type": "markdown",
   "metadata": {},
   "source": [
    "x=\"This is a text msg\"\n",
    "with open(\"abc.txt\",\"w\") as file:\n",
    "    file.write()"
   ]
  },
  {
   "cell_type": "markdown",
   "metadata": {},
   "source": [
    "# w= write mode\n",
    "r= read mode\n",
    "a= append mode\n"
   ]
  },
  {
   "cell_type": "code",
   "execution_count": null,
   "metadata": {
    "collapsed": true
   },
   "outputs": [],
   "source": []
  },
  {
   "cell_type": "code",
   "execution_count": 8,
   "metadata": {
    "collapsed": false
   },
   "outputs": [],
   "source": [
    "x=\"This is a text msg\" \n",
    "with open(\"abc.txt\",\"w\") as file:\n",
    "    file.write(x)"
   ]
  },
  {
   "cell_type": "code",
   "execution_count": 9,
   "metadata": {
    "collapsed": false
   },
   "outputs": [
    {
     "name": "stdout",
     "output_type": "stream",
     "text": [
      "This is a text msg\n"
     ]
    }
   ],
   "source": [
    "with open(\"abc.txt\",\"r\") as file:\n",
    "    content=file.read()\n",
    "print(content)"
   ]
  },
  {
   "cell_type": "code",
   "execution_count": 12,
   "metadata": {
    "collapsed": false
   },
   "outputs": [
    {
     "name": "stdout",
     "output_type": "stream",
     "text": [
      "ds g r e s  f g ghhjj k k ll ll \n"
     ]
    }
   ],
   "source": [
    "with open(\"abc.txt\",\"r+\") as file:\n",
    "    file.write(\"ds g r e s  f g ghhjj k k ll ll \")\n",
    "    file.seek(0)\n",
    "    content=file.read()\n",
    "    \n",
    "print(content)"
   ]
  },
  {
   "cell_type": "code",
   "execution_count": null,
   "metadata": {
    "collapsed": true
   },
   "outputs": [],
   "source": []
  },
  {
   "cell_type": "code",
   "execution_count": null,
   "metadata": {
    "collapsed": true
   },
   "outputs": [],
   "source": []
  }
 ],
 "metadata": {
  "kernelspec": {
   "display_name": "Python 3",
   "language": "python",
   "name": "python3"
  },
  "language_info": {
   "codemirror_mode": {
    "name": "ipython",
    "version": 3
   },
   "file_extension": ".py",
   "mimetype": "text/x-python",
   "name": "python",
   "nbconvert_exporter": "python",
   "pygments_lexer": "ipython3",
   "version": "3.6.0"
  }
 },
 "nbformat": 4,
 "nbformat_minor": 2
}
